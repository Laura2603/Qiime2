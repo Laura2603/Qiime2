{
 "cells": [
  {
   "cell_type": "markdown",
   "metadata": {},
   "source": [
    "# Análisis de comunidades microbianas usando Qiime2-2019\n",
    "\n",
    "Laura Brenes Guillén\n",
    "\n",
    "Modificado de \n",
    "\n",
    "https://qiime2.org/"
   ]
  },
  {
   "cell_type": "markdown",
   "metadata": {},
   "source": [
    "# Introducción al uso del cluster"
   ]
  },
  {
   "cell_type": "markdown",
   "metadata": {},
   "source": [
    "El análisis de puede correr en una computadora personal, sin embargo qiime2 debe instalarse en su computadora. \n",
    "Para instalar Qiime2 en su computadora puede seguir el siguiente tutorial: https://docs.qiime2.org/2019.1/install/native/#install-miniconda\n",
    "\n",
    "\n",
    "Para evitar hacer la instalación de qiime2 en la computadora se puede utilizar el cluster del CNCA. \n",
    "\n",
    "Para ingresar el cluster debe abrir la terminar de su computadora y escribir\n"
   ]
  },
  {
   "cell_type": "code",
   "execution_count": null,
   "metadata": {},
   "outputs": [],
   "source": [
    "ssh username@cluster.cenat.ac.cr"
   ]
  },
  {
   "cell_type": "markdown",
   "metadata": {},
   "source": [
    "El username corresponde a su usuario personal\n",
    "\n",
    "Una vez escrito esto en el cluster saldrá la opción de colocar su contraseña"
   ]
  },
  {
   "cell_type": "markdown",
   "metadata": {},
   "source": [
    "Debe tener sus archivos .fastq.gz en la carpeta en donde quiera hacer su análisis"
   ]
  },
  {
   "cell_type": "markdown",
   "metadata": {},
   "source": [
    "# SESIÓN INTERACTIVA DEL CLUSTER-MODULO"
   ]
  },
  {
   "cell_type": "markdown",
   "metadata": {},
   "source": [
    "Debido a que algunos comando consumen mucha memoria RAM es mejor correr todos los análisis desde la sesión interactiva. Al ingresar al cluster usted se encuentra dentro de login, por lo que debe ir a la sesión interactiva. \n",
    "Para ello debe utilizar el siguiente comando"
   ]
  },
  {
   "cell_type": "code",
   "execution_count": null,
   "metadata": {},
   "outputs": [],
   "source": [
    "qsub -I -q phi-debug"
   ]
  },
  {
   "cell_type": "markdown",
   "metadata": {},
   "source": [
    "Cargar modulo en el cluster\n"
   ]
  },
  {
   "cell_type": "code",
   "execution_count": null,
   "metadata": {},
   "outputs": [],
   "source": [
    "module load miniconda/qiime2-2018.11 "
   ]
  },
  {
   "cell_type": "markdown",
   "metadata": {},
   "source": [
    "# METADATOS"
   ]
  },
  {
   "cell_type": "markdown",
   "metadata": {},
   "source": [
    "Crear archivo de metadatados con la información de las muestras.\n",
    "El formato del archvio debe de ser .tsv, este puede ser creado en google sheets. \n",
    "Debe contener el ID de las muestras (ver detalles en archivo adjunto). El archivo se llamará sample metadata.tsv\n",
    "Una vez se ha generado el archivo este debe modificarse en formato para qiime2 con el siguiente comando.\n",
    "Debe generarse un archivo llamado \"tabulated-metadata.qzv\"\n"
   ]
  },
  {
   "cell_type": "markdown",
   "metadata": {},
   "source": [
    "Recuerde incluir variables categóricas.. será útil de pasos posteriores"
   ]
  },
  {
   "cell_type": "code",
   "execution_count": null,
   "metadata": {},
   "outputs": [],
   "source": [
    "qiime metadata tabulate\n",
    "--m-input-file sample-metadata.tsv \n",
    "--o-visualization tabulated-metadata.qzv \n"
   ]
  },
  {
   "cell_type": "markdown",
   "metadata": {},
   "source": [
    "Para la visualización interactiva de la tabla debe cargar el archivo en la siguiente página https://view.qiime2.org/"
   ]
  },
  {
   "cell_type": "markdown",
   "metadata": {},
   "source": [
    "Para importar los archivos .fastq.gz en formato Qiime2 debe generar un archivo manifiesto, en el cual se indica el nombre de la muestra, el path y la dirección de las secuencias, ya sea forward o reverse. \n",
    "Una vez se ha creado el archivo manifiesto (adjunto), debe correrse el siguiente comando\n",
    "\n",
    "Para importar otro tipo de archivo puede consultar el siguiente link (desmultiplexed, pair-end)\n",
    "\n",
    "https://docs.qiime2.org/2018.11/tutorials/importing/"
   ]
  },
  {
   "cell_type": "code",
   "execution_count": null,
   "metadata": {},
   "outputs": [],
   "source": [
    "qiime tools import --type 'SampleData[SequencesWithQuality]' \n",
    "--input-path se-33-manifest.txt \n",
    "--output-path single-end-sequences.qza \n",
    "--input-format SingleEndFastqManifestPhred33 "
   ]
  },
  {
   "cell_type": "markdown",
   "metadata": {},
   "source": [
    "Este comando funciona cuando se tienen archivo desmultiplexados y single end, para archivo multiplexados o paired end puede consultar el manual\n",
    "https://docs.qiime2.org/2017.12/tutorials/importing/?highlight=import\n",
    "\n",
    "si tiene instalado el qiime2 en su compu debe modificar el flag --source-format "
   ]
  },
  {
   "cell_type": "markdown",
   "metadata": {},
   "source": [
    "Para revisar si el archivo .qza es compatible con qiime2-view puede correrse el siguiente comando\n"
   ]
  },
  {
   "cell_type": "code",
   "execution_count": null,
   "metadata": {},
   "outputs": [],
   "source": [
    "qiime tools peek single-end-sequences.qza"
   ]
  },
  {
   "cell_type": "markdown",
   "metadata": {},
   "source": [
    "# ANÁLISIS DE CALIDAD DE LAS SECUENCIAS"
   ]
  },
  {
   "cell_type": "markdown",
   "metadata": {},
   "source": [
    "Este análisis permite determinar cuántas secuencias se obtuvieron por muestra y también obtener un resumen de la distribución de las calidades de las secuencias en cada posición\n",
    "\n",
    "El archivo demuz.qzv puede ser visualizado en la interfaz interactiva de qiime2"
   ]
  },
  {
   "cell_type": "code",
   "execution_count": null,
   "metadata": {},
   "outputs": [],
   "source": [
    "qiime demux summarize \n",
    "--i-data single-end-sequences.qza \n",
    "--o-visualization demux.qzv "
   ]
  },
  {
   "cell_type": "markdown",
   "metadata": {},
   "source": [
    "Para eliminar las secuencias de \"baja calidad\" se puede utilizar el siguiente comando. El valor 220 es seleccionado debido a que en esa posición en donde se observa un Phredscore de 20. Este valor es decidido por el usuario\n",
    "\n",
    "NOTA: Cuando se corre en el cluster no es tan rápido como correrlo en la servidor del curso, tarda mucho más. Hacer un archivo PBS (En 6 muestras single end (sol forward) tardó casi 72 horas. \n"
   ]
  },
  {
   "cell_type": "code",
   "execution_count": null,
   "metadata": {},
   "outputs": [],
   "source": [
    "qiime dada2 denoise-single \n",
    "  --i-demultiplexed-seqs single-end-demux.qza \n",
    "  --p-trim-left 0 \n",
    "  --p-trunc-len 220 \n",
    "  --o-representative-sequences rep-seqs.qza \n",
    "  --o-table table.qza \n",
    "  --o-denoising-stats stats-dada2.qza"
   ]
  },
  {
   "cell_type": "markdown",
   "metadata": {},
   "source": [
    "Visualización de los datos después de eliminar secuencias de baja calidad"
   ]
  },
  {
   "cell_type": "code",
   "execution_count": null,
   "metadata": {},
   "outputs": [],
   "source": [
    "qiime metadata tabulate \n",
    "  --m-input-file stats-dada2.qza \n",
    "  --o-visualization stats-dada2.qzv"
   ]
  },
  {
   "cell_type": "markdown",
   "metadata": {},
   "source": [
    "# ANÁLISIS FILOGENÉTICO"
   ]
  },
  {
   "cell_type": "code",
   "execution_count": null,
   "metadata": {},
   "outputs": [],
   "source": [
    "qiime phylogeny align-to-tree-mafft-fasttree \n",
    "  --i-sequences rep-seqs.qza \n",
    "  --o-alignment aligned-rep-seqs.qza \n",
    "  --o-masked-alignment masked-aligned-rep-seqs.qza \n",
    "  --o-tree unrooted-tree.qza \n",
    "  --o-rooted-tree rooted-tree.qza"
   ]
  },
  {
   "cell_type": "markdown",
   "metadata": {},
   "source": [
    "Visualización de los datos "
   ]
  },
  {
   "cell_type": "code",
   "execution_count": null,
   "metadata": {},
   "outputs": [],
   "source": [
    "qiime feature-table summarize \n",
    "  --i-table table.qza \n",
    "  --o-visualization table.qzv \n",
    "  --m-sample-metadata-file sample-metadata.tsv\n",
    "\n",
    "qiime feature-table tabulate-seqs \n",
    "  --i-data rep-seqs.qza \n",
    "  --o-visualization rep-seqs.qzv"
   ]
  },
  {
   "cell_type": "markdown",
   "metadata": {},
   "source": [
    "# Alfa y Beta Diversidad (recordar modificar el sampling dept según sus datos)"
   ]
  },
  {
   "cell_type": "code",
   "execution_count": null,
   "metadata": {},
   "outputs": [],
   "source": [
    "qiime diversity core-metrics-phylogenetic \n",
    "  --i-phylogeny rooted-tree.qza \n",
    "  --i-table table.qza \n",
    "  --p-sampling-depth 1109 \n",
    "  --m-metadata-file sample-metadata.tsv \n",
    "  --output-dir core-metrics-results"
   ]
  },
  {
   "cell_type": "markdown",
   "metadata": {},
   "source": [
    "Diversidad alfa (variables categóricas)"
   ]
  },
  {
   "cell_type": "code",
   "execution_count": null,
   "metadata": {},
   "outputs": [],
   "source": [
    "qiime diversity alpha-group-significance \n",
    "  --i-alpha-diversity core-metrics-results/faith_pd_vector.qza \n",
    "  --m-metadata-file sample-metadata.tsv \n",
    "  --o-visualization core-metrics-results/faith-pd-group-significance.qzv"
   ]
  },
  {
   "cell_type": "markdown",
   "metadata": {},
   "source": [
    "Diversidad Beta (variables categóricas)"
   ]
  },
  {
   "cell_type": "code",
   "execution_count": null,
   "metadata": {},
   "outputs": [],
   "source": [
    "qiime diversity beta-group-significance \n",
    "  --i-distance-matrix core-metrics-results/unweighted_unifrac_distance_matrix.qza \n",
    "  --m-metadata-file sample-metadata.tsv \n",
    "  --m-metadata-column BodySite \n",
    "  --o-visualization core-metrics-results/unweighted-unifrac-body-site-significance.qzv \n",
    "  --p-pairwise"
   ]
  },
  {
   "cell_type": "markdown",
   "metadata": {},
   "source": [
    "# Análisis de Componentes Principales"
   ]
  },
  {
   "cell_type": "code",
   "execution_count": null,
   "metadata": {},
   "outputs": [],
   "source": [
    "qiime emperor plot \n",
    "  --i-pcoa core-metrics-results/unweighted_unifrac_pcoa_results.qza \n",
    "  --m-metadata-file sample-metadata.tsv \n",
    "  --p-custom-axes Profundidad \n",
    "  --o-visualization core-metrics-results/unweighted-unifrac-emperor-Profundidad.qzv"
   ]
  },
  {
   "cell_type": "markdown",
   "metadata": {},
   "source": [
    "# Identificación y remoción de quimeras"
   ]
  },
  {
   "cell_type": "markdown",
   "metadata": {},
   "source": [
    "Identificación de quimeras de novo (https://docs.qiime2.org/2018.11/tutorials/chimera/)"
   ]
  },
  {
   "cell_type": "code",
   "execution_count": null,
   "metadata": {},
   "outputs": [],
   "source": [
    "qiime vsearch uchime-denovo \n",
    "  --i-table table.qza \n",
    "  --i-sequences rep-seqs.qza \n",
    "  --output-dir uchime-dn-out"
   ]
  },
  {
   "cell_type": "code",
   "execution_count": null,
   "metadata": {},
   "outputs": [],
   "source": [
    "Al correr este comando se va a generar una carpeta llama uchime-dn-out\n",
    "Esta carpeta contiene los archivos que se utilizarán en pasos posteriores"
   ]
  },
  {
   "cell_type": "code",
   "execution_count": null,
   "metadata": {},
   "outputs": [],
   "source": [
    "Estadísticas de la identificación de quimeras\n",
    "Para mayor información de las estadísticas generadas puede consultarse el siguiente link https://docs.qiime2.org/2018.11/plugins/available/vsearch/uchime-ref/"
   ]
  },
  {
   "cell_type": "code",
   "execution_count": null,
   "metadata": {},
   "outputs": [],
   "source": [
    "qiime metadata tabulate \n",
    "  --m-input-file uchime-dn-out/stats.qza \n",
    "  --o-visualization uchime-dn-out/stats.qzv"
   ]
  },
  {
   "cell_type": "markdown",
   "metadata": {},
   "source": [
    "Filtrar cuadro de abundancia \"otu-table\" (remoción de quimeras) "
   ]
  },
  {
   "cell_type": "code",
   "execution_count": null,
   "metadata": {},
   "outputs": [],
   "source": [
    "qiime feature-table filter-features \n",
    "  --i-table table.qza \n",
    "  --m-metadata-file uchime-dn-out/nonchimeras.qza \n",
    "  --o-filtered-table uchime-dn-out/table-nonchimeric-wo-borderline.qza"
   ]
  },
  {
   "cell_type": "code",
   "execution_count": null,
   "metadata": {},
   "outputs": [],
   "source": [
    "qiime feature-table filter-seqs \n",
    "  --i-data rep-seqs.qza \n",
    "  --m-metadata-file uchime-dn-out/nonchimeras.qza \n",
    "  --o-filtered-data uchime-dn-out/rep-seqs-nonchimeric-wo-borderline.qza"
   ]
  },
  {
   "cell_type": "code",
   "execution_count": null,
   "metadata": {},
   "outputs": [],
   "source": [
    "qiime feature-table summarize \n",
    "  --i-table uchime-dn-out/table-nonchimeric-wo-borderline.qza \n",
    "  --o-visualization uchime-dn-out/table-nonchimeric-wo-borderline.qzv"
   ]
  },
  {
   "cell_type": "code",
   "execution_count": null,
   "metadata": {},
   "outputs": [],
   "source": [
    "Los archivos table-nonchimeric-wo-borderline.qza y rep-seqs-nonchimeric-wo-borderline.qza serán utilizados para asignar la clasificación taxonómica"
   ]
  },
  {
   "cell_type": "markdown",
   "metadata": {},
   "source": [
    "# Identificación taxonómica de las secuencias"
   ]
  },
  {
   "cell_type": "markdown",
   "metadata": {},
   "source": [
    "Para realizar el análisis filogenético deben descargarse la base de datos entrenada de Greengenes o de Silva. \n",
    "Puede encontrar las bases en el siguiente link https://docs.qiime2.org/2018.11/data-resources/. \n",
    "\n",
    "Si la base no está cortada en la región de interés (V3-v4, por ejemplo) puede utilizarse la base de datos completa. Este paso puede durar algún tiempo, por lo que se recomienda utilizar el archivo PBS (ver adjunto)\n",
    "\n",
    "Puede utilizar el siguiente comando para descargar la base Silva"
   ]
  },
  {
   "cell_type": "code",
   "execution_count": null,
   "metadata": {},
   "outputs": [],
   "source": [
    "wget -O \"silva-132-99-nb-classifier.qza\" \"https://data.qiime2.org/2018.11/common/silva-132-99-nb-classifier.qza\""
   ]
  },
  {
   "cell_type": "code",
   "execution_count": null,
   "metadata": {},
   "outputs": [],
   "source": [
    "qiime feature-classifier classify-sklearn \\\n",
    "  --i-classifier silva-132-99-nb-classifier.qza \\\n",
    "  --i-reads rep-seqs-nonchimeric-wo-borderline.qza \\\n",
    "  --o-classification taxonomy_nochimeras.qza"
   ]
  },
  {
   "cell_type": "code",
   "execution_count": null,
   "metadata": {},
   "outputs": [],
   "source": [
    "qiime metadata tabulate \\\n",
    "  --m-input-file taxonomy.qza \\\n",
    "  --o-visualization taxonomy.qzv"
   ]
  },
  {
   "cell_type": "code",
   "execution_count": null,
   "metadata": {},
   "outputs": [],
   "source": [
    "qiime taxa barplot \\\n",
    "  --i-table table-nonchimeric-wo-borderline.qza \\\n",
    "  --i-taxonomy taxonomy_nochimeras.qza \\\n",
    "  --m-metadata-file sample-metadata.tsv \\\n",
    "  --o-visualization taxa-bar-plots.qzv"
   ]
  },
  {
   "cell_type": "markdown",
   "metadata": {},
   "source": [
    "# Exportar tabla del conteo de cada feature (OTU) por muestra"
   ]
  },
  {
   "cell_type": "markdown",
   "metadata": {},
   "source": [
    "Tabla de conteo de cada secuencia por muestra (sin asignación taxonómica)\n",
    "Dentro de la carpeta \"extracted-feature-table\" se encontratrá una carpeta con un \"conjunto de números\", dentro de esa carpeta encontrará la carpeta \"data\". \n",
    "Dentro de la carpeta \"data\" se encuentra el archivo .biom"
   ]
  },
  {
   "cell_type": "code",
   "execution_count": null,
   "metadata": {},
   "outputs": [],
   "source": [
    "mkdir extracted-feature-table\n",
    "qiime tools extract \\\n",
    "  --input-path table-nonchimeric-wo-borderline.qza \\\n",
    "  --output-path extracted-feature-table"
   ]
  },
  {
   "cell_type": "markdown",
   "metadata": {},
   "source": [
    "Para visualizar el archivo .biom en excell, puede utilizar el siguiente comando"
   ]
  },
  {
   "cell_type": "code",
   "execution_count": null,
   "metadata": {},
   "outputs": [],
   "source": [
    "biom convert -i table.biom -o table.from_biom_w_taxonomy.txt --to-tsv --header-key taxonomy"
   ]
  },
  {
   "cell_type": "markdown",
   "metadata": {},
   "source": [
    "# Exportar la tabla de taxonomía"
   ]
  },
  {
   "cell_type": "code",
   "execution_count": null,
   "metadata": {},
   "outputs": [],
   "source": [
    "qiime tools export \\\n",
    "  --input-path taxonomy_nochimeras.qza \\\n",
    "  --output-path exported-taxonomy-table"
   ]
  },
  {
   "cell_type": "code",
   "execution_count": null,
   "metadata": {},
   "outputs": [],
   "source": [
    "qiime feature-table filter-features \\\n",
    "  --i-table taxonomy_nochimeras.qza \\\n",
    "  --m-metadata-file uchime-dn-out/nonchimeras.qza \\\n",
    "  --o-filtered-table uchime-dn-out/table-taxonomy-nonchimeric-wo-borderline.qza"
   ]
  },
  {
   "cell_type": "markdown",
   "metadata": {},
   "source": [
    "# Exportar tablas L1,L2...(similar a qiime1)"
   ]
  },
  {
   "cell_type": "markdown",
   "metadata": {},
   "source": [
    "Tabla de conteo de cada secuencia por muestra (similar a resultados de taxonomy summary en qiime1, L1,L2,L3,...)"
   ]
  },
  {
   "cell_type": "code",
   "execution_count": null,
   "metadata": {},
   "outputs": [],
   "source": [
    "qiime taxa collapse \\\n",
    "  --i-table table-nonchimeric-wo-borderline.qza \\\n",
    "  --i-taxonomy taxonomy_nochimeras.qza \\\n",
    "  --p-level 6 \\\n",
    "  --output-dir taxtable6/"
   ]
  },
  {
   "cell_type": "markdown",
   "metadata": {},
   "source": [
    "Se va a generar una carpeta con el nombre de \"taxtable\" dentro de la cual se encuentra un archivo .qza que debe modificarse para generar un archivo .biom"
   ]
  },
  {
   "cell_type": "code",
   "execution_count": null,
   "metadata": {},
   "outputs": [],
   "source": [
    "mkdir extracted-feature-table\n",
    "qiime tools extract \\\n",
    "  --input-path collapsed_table.qza \\\n",
    "  --output-path extracted-feature-table"
   ]
  },
  {
   "cell_type": "markdown",
   "metadata": {},
   "source": [
    "Para visualizar el archivo .biom en excell (dentro de carpeta \"extracted-feature-table/1512165sss/data/\", puede utilizar el siguiente comando"
   ]
  },
  {
   "cell_type": "code",
   "execution_count": null,
   "metadata": {},
   "outputs": [],
   "source": [
    "biom convert -i table.biom -o table.from_biom_w_taxonomy.txt --to-tsv --header-key taxonomy"
   ]
  },
  {
   "cell_type": "markdown",
   "metadata": {},
   "source": [
    "# Si sus datos lo requieren usted puede eliminar cloroplastos, mitocondrias y singletons"
   ]
  },
  {
   "cell_type": "markdown",
   "metadata": {},
   "source": [
    "# Eliminar cloroplastos-mitocondrias"
   ]
  },
  {
   "cell_type": "code",
   "execution_count": null,
   "metadata": {},
   "outputs": [],
   "source": [
    "qiime taxa filter-table \\\n",
    "  --i-table table-nonchimeric-wo-borderline.qza \\\n",
    "  --i-taxonomy taxonomy_nochimeras.qza \\\n",
    "  --p-exclude mitochondria,chloroplast \\\n",
    "  --o-filtered-table table-no-chimeras-no-mitochondria-no-chloroplast.qza"
   ]
  },
  {
   "cell_type": "markdown",
   "metadata": {},
   "source": [
    "# Eliminar singletons (https://docs.qiime2.org/2018.4/tutorials/filtering/)"
   ]
  },
  {
   "cell_type": "code",
   "execution_count": null,
   "metadata": {},
   "outputs": [],
   "source": [
    "qiime feature-table filter-features \\\n",
    "  --i-table table-nonchimeric-wo-borderline.qza \\\n",
    "  --p-min-frequency 1 \\\n",
    "  --o-filtered-table table-no-chimeras-no-mitochondria-no-chloroplast-no-singles.qza"
   ]
  },
  {
   "cell_type": "markdown",
   "metadata": {},
   "source": [
    "# Mezclar datos de diferentes análisis"
   ]
  },
  {
   "cell_type": "code",
   "execution_count": null,
   "metadata": {},
   "outputs": [],
   "source": [
    "qiime feature-table merge \\\n",
    "    --i-table1 analysis1/table.qza \\\n",
    "    --i-table2 analysis2/table.qza \\\n",
    "    --o-merged-table merged-table.qza\n",
    "\n",
    "qiime feature-table merge-taxa-data \\\n",
    "    --i-data1 analysis1/taxonomy.qza \\\n",
    "    --i-data2 analysis2/taxonomy.qza \\\n",
    "    --o-merged-data merged-taxonomy.qza"
   ]
  }
 ],
 "metadata": {
  "kernelspec": {
   "display_name": "Python 2",
   "language": "python",
   "name": "python2"
  },
  "language_info": {
   "codemirror_mode": {
    "name": "ipython",
    "version": 2
   },
   "file_extension": ".py",
   "mimetype": "text/x-python",
   "name": "python",
   "nbconvert_exporter": "python",
   "pygments_lexer": "ipython2",
   "version": "2.7.15"
  }
 },
 "nbformat": 4,
 "nbformat_minor": 2
}
